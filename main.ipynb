{
 "cells": [
  {
   "cell_type": "code",
   "execution_count": 17,
   "metadata": {},
   "outputs": [],
   "source": [
    "import pandas as pd\n",
    "import requests\n",
    "from selenium import webdriver\n",
    "import time\n",
    "import os"
   ]
  },
  {
   "cell_type": "code",
   "execution_count": 18,
   "metadata": {},
   "outputs": [],
   "source": [
    "url = 'https://www.cdc.gov/coronavirus/2019-ncov/science/community-levels.html'\n",
    "\n",
    "file_path = 'Resources/'\n",
    "\n",
    "file_name = 'COVID-19 Community Levels.csv'\n",
    "\n",
    "csv_file = file_path + file_name\n",
    "\n",
    "button_class = 'theme-cyan btn btn-download no-border'\n",
    "\n",
    "county = 'Gwinnett'\n",
    "\n",
    "state = 'GA'"
   ]
  },
  {
   "cell_type": "code",
   "execution_count": 19,
   "metadata": {},
   "outputs": [
    {
     "name": "stderr",
     "output_type": "stream",
     "text": [
      "C:\\Users\\jaime\\AppData\\Local\\Temp/ipykernel_13932/3881588983.py:6: DeprecationWarning: executable_path has been deprecated, please pass in a Service object\n",
      "  driver = webdriver.Chrome(executable_path=path, options=chromeOptions)\n"
     ]
    }
   ],
   "source": [
    "# Setup Selenium driver preferences\n",
    "chromeOptions = webdriver.ChromeOptions()\n",
    "prefs = {\"download.default_directory\" : \"C:\\\\Users\\\\jaime\\\\Repos\\\\Scrape_CDC\\\\Resources\"}\n",
    "chromeOptions.add_experimental_option(\"prefs\",prefs)\n",
    "path = r'C:\\\\chromedriver.exe'\n",
    "driver = webdriver.Chrome(executable_path=path, options=chromeOptions)"
   ]
  },
  {
   "cell_type": "code",
   "execution_count": 20,
   "metadata": {},
   "outputs": [],
   "source": [
    "# Remove old csv file\n",
    "if os.path.exists(csv_file):\n",
    "    os.remove(csv_file)"
   ]
  },
  {
   "cell_type": "code",
   "execution_count": 21,
   "metadata": {},
   "outputs": [
    {
     "name": "stderr",
     "output_type": "stream",
     "text": [
      "C:\\Users\\jaime\\AppData\\Local\\Temp/ipykernel_13932/1224585215.py:9: DeprecationWarning: find_element_by_xpath is deprecated. Please use find_element(by=By.XPATH, value=xpath) instead\n",
      "  driver.find_element_by_xpath(f'//*[@class=\"{button_class}\"]').click()\n"
     ]
    }
   ],
   "source": [
    "# Grab new file using selenium\n",
    "driver.get(url)\n",
    "\n",
    "time.sleep(5)\n",
    "source_code = ''\n",
    "\n",
    "try:\n",
    "    source_code = driver.page_source\n",
    "    driver.find_element_by_xpath(f'//*[@class=\"{button_class}\"]').click()\n",
    "    time.sleep(5)\n",
    "\n",
    "except:\n",
    "    print('No such element exists')\n",
    "\n",
    "driver.close()"
   ]
  },
  {
   "cell_type": "code",
   "execution_count": 22,
   "metadata": {},
   "outputs": [],
   "source": [
    "# For debugging, may remove later\n",
    "with open('Resources/source.txt', 'w') as f:\n",
    "    f.write(source_code)"
   ]
  },
  {
   "cell_type": "code",
   "execution_count": 23,
   "metadata": {},
   "outputs": [
    {
     "data": {
      "text/html": [
       "<div>\n",
       "<style scoped>\n",
       "    .dataframe tbody tr th:only-of-type {\n",
       "        vertical-align: middle;\n",
       "    }\n",
       "\n",
       "    .dataframe tbody tr th {\n",
       "        vertical-align: top;\n",
       "    }\n",
       "\n",
       "    .dataframe thead th {\n",
       "        text-align: right;\n",
       "    }\n",
       "</style>\n",
       "<table border=\"1\" class=\"dataframe\">\n",
       "  <thead>\n",
       "    <tr style=\"text-align: right;\">\n",
       "      <th></th>\n",
       "      <th>Name</th>\n",
       "      <th>FIPS</th>\n",
       "      <th>StateName</th>\n",
       "      <th>TotalPop</th>\n",
       "      <th>Health Service Area Number</th>\n",
       "      <th>Health Service Area Name</th>\n",
       "      <th>COVID-19 Community Level - COVID Inpatient Bed Utilization</th>\n",
       "      <th>COVID-19 Community Level - COVID Hospital Admissions per 100k</th>\n",
       "      <th>COVID-19 Community Level - Cases per 100k</th>\n",
       "      <th>COVID-19 Community Level</th>\n",
       "    </tr>\n",
       "  </thead>\n",
       "  <tbody>\n",
       "    <tr>\n",
       "      <th>0</th>\n",
       "      <td>Autauga County, AL</td>\n",
       "      <td>01001</td>\n",
       "      <td>Alabama</td>\n",
       "      <td>55869.0</td>\n",
       "      <td>171.0</td>\n",
       "      <td>Montgomery (Montgomery), AL - Autauga, AL</td>\n",
       "      <td>5.0%</td>\n",
       "      <td>11.9</td>\n",
       "      <td>137.82</td>\n",
       "      <td>Medium</td>\n",
       "    </tr>\n",
       "    <tr>\n",
       "      <th>1</th>\n",
       "      <td>Baldwin County, AL</td>\n",
       "      <td>01003</td>\n",
       "      <td>Alabama</td>\n",
       "      <td>223234.0</td>\n",
       "      <td>161.0</td>\n",
       "      <td>Mobile (Mobile), AL - Baldwin, AL</td>\n",
       "      <td>4.5%</td>\n",
       "      <td>11.3</td>\n",
       "      <td>90.94</td>\n",
       "      <td>Medium</td>\n",
       "    </tr>\n",
       "    <tr>\n",
       "      <th>2</th>\n",
       "      <td>Barbour County, AL</td>\n",
       "      <td>01005</td>\n",
       "      <td>Alabama</td>\n",
       "      <td>24686.0</td>\n",
       "      <td>162.0</td>\n",
       "      <td>Houston (Dothan), AL - Dale, AL</td>\n",
       "      <td>8.2%</td>\n",
       "      <td>15.1</td>\n",
       "      <td>52.66</td>\n",
       "      <td>Medium</td>\n",
       "    </tr>\n",
       "    <tr>\n",
       "      <th>3</th>\n",
       "      <td>Bibb County, AL</td>\n",
       "      <td>01007</td>\n",
       "      <td>Alabama</td>\n",
       "      <td>22394.0</td>\n",
       "      <td>150.0</td>\n",
       "      <td>Jefferson (Birmingham), AL - Shelby, AL</td>\n",
       "      <td>4.9%</td>\n",
       "      <td>13.9</td>\n",
       "      <td>49.12</td>\n",
       "      <td>Medium</td>\n",
       "    </tr>\n",
       "    <tr>\n",
       "      <th>4</th>\n",
       "      <td>Blount County, AL</td>\n",
       "      <td>01009</td>\n",
       "      <td>Alabama</td>\n",
       "      <td>57826.0</td>\n",
       "      <td>150.0</td>\n",
       "      <td>Jefferson (Birmingham), AL - Shelby, AL</td>\n",
       "      <td>4.9%</td>\n",
       "      <td>13.9</td>\n",
       "      <td>138.35</td>\n",
       "      <td>Medium</td>\n",
       "    </tr>\n",
       "  </tbody>\n",
       "</table>\n",
       "</div>"
      ],
      "text/plain": [
       "                 Name   FIPS StateName   TotalPop   \\\n",
       "0  Autauga County, AL  01001   Alabama     55869.0   \n",
       "1  Baldwin County, AL  01003   Alabama    223234.0   \n",
       "2  Barbour County, AL  01005   Alabama     24686.0   \n",
       "3     Bibb County, AL  01007   Alabama     22394.0   \n",
       "4   Blount County, AL  01009   Alabama     57826.0   \n",
       "\n",
       "   Health Service Area Number                   Health Service Area Name  \\\n",
       "0                       171.0  Montgomery (Montgomery), AL - Autauga, AL   \n",
       "1                       161.0          Mobile (Mobile), AL - Baldwin, AL   \n",
       "2                       162.0            Houston (Dothan), AL - Dale, AL   \n",
       "3                       150.0    Jefferson (Birmingham), AL - Shelby, AL   \n",
       "4                       150.0    Jefferson (Birmingham), AL - Shelby, AL   \n",
       "\n",
       "  COVID-19 Community Level - COVID Inpatient Bed Utilization  \\\n",
       "0                                               5.0%           \n",
       "1                                               4.5%           \n",
       "2                                               8.2%           \n",
       "3                                               4.9%           \n",
       "4                                               4.9%           \n",
       "\n",
       "   COVID-19 Community Level - COVID Hospital Admissions per 100k  \\\n",
       "0                                               11.9               \n",
       "1                                               11.3               \n",
       "2                                               15.1               \n",
       "3                                               13.9               \n",
       "4                                               13.9               \n",
       "\n",
       "   COVID-19 Community Level - Cases per 100k COVID-19 Community Level  \n",
       "0                                     137.82                   Medium  \n",
       "1                                      90.94                   Medium  \n",
       "2                                      52.66                   Medium  \n",
       "3                                      49.12                   Medium  \n",
       "4                                     138.35                   Medium  "
      ]
     },
     "execution_count": 23,
     "metadata": {},
     "output_type": "execute_result"
    }
   ],
   "source": [
    "df = pd.read_csv(csv_file)\n",
    "df.head()\n"
   ]
  },
  {
   "cell_type": "code",
   "execution_count": 24,
   "metadata": {},
   "outputs": [
    {
     "data": {
      "text/html": [
       "<div>\n",
       "<style scoped>\n",
       "    .dataframe tbody tr th:only-of-type {\n",
       "        vertical-align: middle;\n",
       "    }\n",
       "\n",
       "    .dataframe tbody tr th {\n",
       "        vertical-align: top;\n",
       "    }\n",
       "\n",
       "    .dataframe thead th {\n",
       "        text-align: right;\n",
       "    }\n",
       "</style>\n",
       "<table border=\"1\" class=\"dataframe\">\n",
       "  <thead>\n",
       "    <tr style=\"text-align: right;\">\n",
       "      <th></th>\n",
       "      <th>453</th>\n",
       "    </tr>\n",
       "  </thead>\n",
       "  <tbody>\n",
       "    <tr>\n",
       "      <th>Name</th>\n",
       "      <td>Gwinnett County, GA</td>\n",
       "    </tr>\n",
       "    <tr>\n",
       "      <th>FIPS</th>\n",
       "      <td>13135</td>\n",
       "    </tr>\n",
       "    <tr>\n",
       "      <th>StateName</th>\n",
       "      <td>Georgia</td>\n",
       "    </tr>\n",
       "    <tr>\n",
       "      <th>TotalPop</th>\n",
       "      <td>936250.0</td>\n",
       "    </tr>\n",
       "    <tr>\n",
       "      <th>Health Service Area Number</th>\n",
       "      <td>153.0</td>\n",
       "    </tr>\n",
       "    <tr>\n",
       "      <th>Health Service Area Name</th>\n",
       "      <td>Fulton (Atlanta), GA - DeKalb, GA</td>\n",
       "    </tr>\n",
       "    <tr>\n",
       "      <th>COVID-19 Community Level - COVID Inpatient Bed Utilization</th>\n",
       "      <td>6.3%</td>\n",
       "    </tr>\n",
       "    <tr>\n",
       "      <th>COVID-19 Community Level - COVID Hospital Admissions per 100k</th>\n",
       "      <td>7.5</td>\n",
       "    </tr>\n",
       "    <tr>\n",
       "      <th>COVID-19 Community Level - Cases per 100k</th>\n",
       "      <td>61.74</td>\n",
       "    </tr>\n",
       "    <tr>\n",
       "      <th>COVID-19 Community Level</th>\n",
       "      <td>Low</td>\n",
       "    </tr>\n",
       "  </tbody>\n",
       "</table>\n",
       "</div>"
      ],
      "text/plain": [
       "                                                                                  453\n",
       "Name                                                              Gwinnett County, GA\n",
       "FIPS                                                                            13135\n",
       "StateName                                                                     Georgia\n",
       " TotalPop                                                                    936250.0\n",
       "Health Service Area Number                                                      153.0\n",
       "Health Service Area Name                            Fulton (Atlanta), GA - DeKalb, GA\n",
       "COVID-19 Community Level - COVID Inpatient Bed ...                               6.3%\n",
       "COVID-19 Community Level - COVID Hospital Admis...                                7.5\n",
       "COVID-19 Community Level - Cases per 100k                                       61.74\n",
       "COVID-19 Community Level                                                          Low"
      ]
     },
     "execution_count": 24,
     "metadata": {},
     "output_type": "execute_result"
    }
   ],
   "source": [
    "df.loc[df['Name'] == f'{county} County, {state}'].transpose()"
   ]
  },
  {
   "cell_type": "code",
   "execution_count": null,
   "metadata": {},
   "outputs": [],
   "source": []
  }
 ],
 "metadata": {
  "interpreter": {
   "hash": "b3ba2566441a7c06988d0923437866b63cedc61552a5af99d1f4fb67d367b25f"
  },
  "kernelspec": {
   "display_name": "Python 3.9.7 ('base')",
   "language": "python",
   "name": "python3"
  },
  "language_info": {
   "codemirror_mode": {
    "name": "ipython",
    "version": 3
   },
   "file_extension": ".py",
   "mimetype": "text/x-python",
   "name": "python",
   "nbconvert_exporter": "python",
   "pygments_lexer": "ipython3",
   "version": "3.9.7"
  },
  "orig_nbformat": 4
 },
 "nbformat": 4,
 "nbformat_minor": 2
}
